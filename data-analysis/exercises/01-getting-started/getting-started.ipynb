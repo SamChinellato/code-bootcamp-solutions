{
 "cells": [
  {
   "cell_type": "markdown",
   "metadata": {},
   "source": [
    "## Welcome to the Data Analysis Path!\n",
    "Hopefully you have installed Jupyter Lab, python and pip smoothly.  \n",
    "**Linux/MacOS**: you can check that you have those dependencies installed by running the cell below:"
   ]
  },
  {
   "cell_type": "code",
   "execution_count": null,
   "metadata": {},
   "outputs": [],
   "source": [
    "#press shift + enter to run a jupyter cell!\n",
    "dep_list=[\"python\",\"pip\", \"jupyter lab\"]\n",
    "for dependency in dep_list:\n",
    "    try:\n",
    "        output = ! {dependency} --version\n",
    "        if output[0].find(\"not found\") == -1:\n",
    "            print(\"Found {}/{} installed. Very nice!\".format(dependency, output[0]))\n",
    "        else:\n",
    "            print(\"Can't seem to find {}, are you sure you installed it?\".format(dependency))\n",
    "    except:\n",
    "        print(\"Unable to check whether {} is installed. Please note that this check does not work on Windows\".format(dependency))\n"
   ]
  },
  {
   "cell_type": "markdown",
   "metadata": {},
   "source": [
    "## Congratulations!\n",
    "If you are able to view this notebook and have installed all the reqired depencencies, you are ready to move to the next section!"
   ]
  }
 ],
 "metadata": {
  "kernelspec": {
   "display_name": "Python 3",
   "language": "python",
   "name": "python3"
  },
  "language_info": {
   "codemirror_mode": {
    "name": "ipython",
    "version": 3
   },
   "file_extension": ".py",
   "mimetype": "text/x-python",
   "name": "python",
   "nbconvert_exporter": "python",
   "pygments_lexer": "ipython3",
   "version": "3.6.9"
  }
 },
 "nbformat": 4,
 "nbformat_minor": 4
}
